{
  "cells": [
    {
      "cell_type": "markdown",
      "metadata": {
        "id": "view-in-github",
        "colab_type": "text"
      },
      "source": [
        "<a href=\"https://colab.research.google.com/github/yundongny1/personal-project/blob/main/final_model_ctr.ipynb\" target=\"_parent\"><img src=\"https://colab.research.google.com/assets/colab-badge.svg\" alt=\"Open In Colab\"/></a>"
      ]
    },
    {
      "cell_type": "markdown",
      "metadata": {
        "id": "4mCA2mboGoav"
      },
      "source": [
        "\n",
        "## Spark"
      ]
    },
    {
      "cell_type": "code",
      "execution_count": null,
      "metadata": {
        "id": "Ah2MgTw0xQtr",
        "colab": {
          "base_uri": "https://localhost:8080/"
        },
        "outputId": "ad2e56e3-56d3-4eac-9486-ee7fe3074593"
      },
      "outputs": [
        {
          "output_type": "stream",
          "name": "stdout",
          "text": [
            "Selecting previously unselected package openjdk-8-jre-headless:amd64.\r\n",
            "(Reading database ... \r(Reading database ... 5%\r(Reading database ... 10%\r(Reading database ... 15%\r(Reading database ... 20%\r(Reading database ... 25%\r(Reading database ... 30%\r(Reading database ... 35%\r(Reading database ... 40%\r(Reading database ... 45%\r(Reading database ... 50%\r(Reading database ... 55%\r(Reading database ... 60%\r(Reading database ... 65%\r(Reading database ... 70%\r(Reading database ... 75%\r(Reading database ... 80%\r(Reading database ... 85%\r(Reading database ... 90%\r(Reading database ... 95%\r(Reading database ... 100%\r(Reading database ... 155632 files and directories currently installed.)\r\n",
            "Preparing to unpack .../openjdk-8-jre-headless_8u312-b07-0ubuntu1~18.04_amd64.deb ...\r\n",
            "Unpacking openjdk-8-jre-headless:amd64 (8u312-b07-0ubuntu1~18.04) ...\r\n",
            "Selecting previously unselected package openjdk-8-jdk-headless:amd64.\r\n",
            "Preparing to unpack .../openjdk-8-jdk-headless_8u312-b07-0ubuntu1~18.04_amd64.deb ...\r\n",
            "Unpacking openjdk-8-jdk-headless:amd64 (8u312-b07-0ubuntu1~18.04) ...\r\n",
            "Setting up openjdk-8-jre-headless:amd64 (8u312-b07-0ubuntu1~18.04) ...\r\n",
            "update-alternatives: using /usr/lib/jvm/java-8-openjdk-amd64/jre/bin/orbd to provide /usr/bin/orbd (orbd) in auto mode\r\n",
            "update-alternatives: using /usr/lib/jvm/java-8-openjdk-amd64/jre/bin/servertool to provide /usr/bin/servertool (servertool) in auto mode\r\n",
            "update-alternatives: using /usr/lib/jvm/java-8-openjdk-amd64/jre/bin/tnameserv to provide /usr/bin/tnameserv (tnameserv) in auto mode\r\n",
            "Setting up openjdk-8-jdk-headless:amd64 (8u312-b07-0ubuntu1~18.04) ...\r\n",
            "update-alternatives: using /usr/lib/jvm/java-8-openjdk-amd64/bin/idlj to provide /usr/bin/idlj (idlj) in auto mode\r\n",
            "update-alternatives: using /usr/lib/jvm/java-8-openjdk-amd64/bin/wsimport to provide /usr/bin/wsimport (wsimport) in auto mode\r\n",
            "update-alternatives: using /usr/lib/jvm/java-8-openjdk-amd64/bin/jsadebugd to provide /usr/bin/jsadebugd (jsadebugd) in auto mode\r\n",
            "update-alternatives: using /usr/lib/jvm/java-8-openjdk-amd64/bin/native2ascii to provide /usr/bin/native2ascii (native2ascii) in auto mode\r\n",
            "update-alternatives: using /usr/lib/jvm/java-8-openjdk-amd64/bin/javah to provide /usr/bin/javah (javah) in auto mode\r\n",
            "update-alternatives: using /usr/lib/jvm/java-8-openjdk-amd64/bin/hsdb to provide /usr/bin/hsdb (hsdb) in auto mode\r\n",
            "update-alternatives: using /usr/lib/jvm/java-8-openjdk-amd64/bin/clhsdb to provide /usr/bin/clhsdb (clhsdb) in auto mode\r\n",
            "update-alternatives: using /usr/lib/jvm/java-8-openjdk-amd64/bin/xjc to provide /usr/bin/xjc (xjc) in auto mode\r\n",
            "update-alternatives: using /usr/lib/jvm/java-8-openjdk-amd64/bin/schemagen to provide /usr/bin/schemagen (schemagen) in auto mode\r\n",
            "update-alternatives: using /usr/lib/jvm/java-8-openjdk-amd64/bin/extcheck to provide /usr/bin/extcheck (extcheck) in auto mode\r\n",
            "update-alternatives: using /usr/lib/jvm/java-8-openjdk-amd64/bin/jhat to provide /usr/bin/jhat (jhat) in auto mode\r\n",
            "update-alternatives: using /usr/lib/jvm/java-8-openjdk-amd64/bin/wsgen to provide /usr/bin/wsgen (wsgen) in auto mode\r\n"
          ]
        }
      ],
      "source": [
        "#@title  <-- Run Me: (Hidden) Installing Spark\n",
        "%%bash \n",
        "\n",
        "## Setup Spark on Colab\n",
        "pip install -q pyspark\n",
        "apt-get -qq install -y openjdk-8-jdk-headless\n",
        "\n",
        "## Setup port-forwarding\n",
        "\n",
        "# Download ngrok\n",
        "wget -q https://bin.equinox.io/c/4VmDzA7iaHb/ngrok-stable-linux-amd64.zip\n",
        "# Unload ngrok\n",
        "unzip -q ngrok-stable-linux-amd64.zip"
      ]
    },
    {
      "cell_type": "code",
      "execution_count": null,
      "metadata": {
        "id": "bVm_ncdJx2YG"
      },
      "outputs": [],
      "source": [
        "#@title  <-- Run Me: (Hidden) Environment Variable Setup\n",
        "import os\n",
        "os.environ[\"JAVA_HOME\"] = \"/usr/lib/jvm/java-8-openjdk-amd64\""
      ]
    },
    {
      "cell_type": "code",
      "execution_count": null,
      "metadata": {
        "id": "5E0AMIX1yAZg"
      },
      "outputs": [],
      "source": [
        "import pyspark \n",
        "from pyspark.sql import *\n",
        "from pyspark.sql.functions import *\n",
        "from pyspark import SparkContext, SparkConf\n",
        "import seaborn as sns\n",
        "import matplotlib.pyplot as plt\n",
        "\n",
        "import pandas as pd    \n",
        "import numpy as np\n",
        "\n",
        "\n",
        "# Set configuration scope to be local and use port 4050\n",
        "config_scope = SparkConf().set(\"spark.ui.port\", \"4050\")\n",
        "\n",
        "# Create the connection to a Spark cluster\n",
        "sc = pyspark.SparkContext(conf = config_scope)\n",
        "\n",
        "# Create a session to programmatically build Spark RDD, DataFrame and DataSet\n",
        "spark = SparkSession.builder.getOrCreate()"
      ]
    },
    {
      "cell_type": "markdown",
      "metadata": {
        "id": "kjdp8pAw7Isp"
      },
      "source": [
        "## Load data"
      ]
    },
    {
      "cell_type": "code",
      "execution_count": null,
      "metadata": {
        "id": "z6yWKFa57Z5w",
        "colab": {
          "base_uri": "https://localhost:8080/"
        },
        "outputId": "19387e03-e8e2-4b66-b862-d88a5607b56c"
      },
      "outputs": [
        {
          "output_type": "stream",
          "name": "stdout",
          "text": [
            "Mounted at /content/drive\n"
          ]
        }
      ],
      "source": [
        "from google.colab import drive\n",
        "drive.mount('/content/drive')"
      ]
    },
    {
      "cell_type": "code",
      "execution_count": null,
      "metadata": {
        "id": "VePiHW_ezwGT"
      },
      "outputs": [],
      "source": [
        "# Read in data\n",
        "TRAIN_DIR = \"drive/MyDrive/STAT480-Group Project/dataset/track2\""
      ]
    },
    {
      "cell_type": "code",
      "source": [
        "training = spark.read.option(\"header\",\"false\").option(\"delimiter\",\"\\t\").csv(TRAIN_DIR+'/training.txt')\n",
        "training = training.selectExpr('_c0 as Click', '_c1 as Impression', '_c2 as AdURL', '_c3 as AdId', '_c4 as AdvId', \n",
        "                    '_c5 as Depth', '_c6 as Pos', '_c7 as QId', '_c8 as KeyId', '_c9 as TitleId', \n",
        "                    '_c10 as DescId', '_c11 as UId')\n",
        "training.show(10)"
      ],
      "metadata": {
        "id": "WFfBhv9btAWa",
        "colab": {
          "base_uri": "https://localhost:8080/"
        },
        "outputId": "d961687f-317a-4c51-8beb-a7bc1167bd99"
      },
      "execution_count": null,
      "outputs": [
        {
          "output_type": "stream",
          "name": "stdout",
          "text": [
            "+-----+----------+--------------------+--------+-----+-----+---+--------+------+-------+-------+------+\n",
            "|Click|Impression|               AdURL|    AdId|AdvId|Depth|Pos|     QId| KeyId|TitleId| DescId|   UId|\n",
            "+-----+----------+--------------------+--------+-----+-----+---+--------+------+-------+-------+------+\n",
            "|    0|         1| 4298118681424644510| 7686695|  385|    3|  3|    1601|  5521|   7709|    576|490234|\n",
            "|    0|         1| 4860571499428580850|21560664|37484|    2|  2| 2255103|   317|  48989|  44771|490234|\n",
            "|    0|         1| 9704320783495875564|21748480|36759|    3|  3| 4532751| 60721| 685038|  29681|490234|\n",
            "|    0|         1|13677630321509009335| 3517124|23778|    3|  1|    1601|  2155|   1207|   1422|490234|\n",
            "|    0|         1| 3284760244799604489|20758093|34535|    1|  1| 4532751| 77819| 266618| 222223|490234|\n",
            "|    0|         1|10196385171799537224|21375650|36832|    2|  1| 4688625|202465| 457316| 429545|490234|\n",
            "|    0|         1| 4203081172173603803| 4427028|28647|    3|  1| 4532751|720719|3402221|2663964|490234|\n",
            "|    0|         1| 4203081172173603803| 4428493|28647|    2|  2|13171922|  1493|  11658|   5668|490234|\n",
            "|    0|         1|  585474943700910275|20945590|35083|    2|  1|   35143| 28111| 151695| 128782|490234|\n",
            "|    0|         1| 9684554778607002606|21406020|36943|    2|  2| 4688625|202465|1172072| 973354|490234|\n",
            "+-----+----------+--------------------+--------+-----+-----+---+--------+------+-------+-------+------+\n",
            "only showing top 10 rows\n",
            "\n"
          ]
        }
      ]
    },
    {
      "cell_type": "code",
      "source": [
        "purchasekeywordid = spark.read.option(\"header\",\"false\").option(\"delimiter\",\"\\t\").csv(TRAIN_DIR+'/purchasedkeywordid_tokensid.txt')\n",
        "purchasekeywordid = purchasekeywordid.selectExpr('_c0 as KeyId', '_c1 as PurchaseKeyword')\n",
        "purchasekeywordid.show(10)"
      ],
      "metadata": {
        "id": "M3yhizsqsWT-",
        "colab": {
          "base_uri": "https://localhost:8080/"
        },
        "outputId": "c064f11d-7e32-41da-f18f-aaec4cbaf053"
      },
      "execution_count": null,
      "outputs": [
        {
          "output_type": "stream",
          "name": "stdout",
          "text": [
            "+-----+---------------+\n",
            "|KeyId|PurchaseKeyword|\n",
            "+-----+---------------+\n",
            "|    0|          12731|\n",
            "|    1|           1545|\n",
            "|    2|            477|\n",
            "|    3|     1545|75|31|\n",
            "|    4|            279|\n",
            "|    5|           2684|\n",
            "|    6|             27|\n",
            "|    7|     4189|75|31|\n",
            "|    8|        110|298|\n",
            "|    9|             30|\n",
            "+-----+---------------+\n",
            "only showing top 10 rows\n",
            "\n"
          ]
        }
      ]
    },
    {
      "cell_type": "code",
      "source": [
        "queryid = spark.read.option(\"header\",\"false\").option(\"delimiter\",\"\\t\").csv(TRAIN_DIR+'/queryid_tokensid.txt')\n",
        "queryid = queryid.selectExpr('_c0 as QId', '_c1 as Query')\n",
        "queryid.show(10)"
      ],
      "metadata": {
        "id": "ZFTjVaGcsRVP",
        "colab": {
          "base_uri": "https://localhost:8080/"
        },
        "outputId": "71cfa797-4a11-4f81-a6a0-526316ec894d"
      },
      "execution_count": null,
      "outputs": [
        {
          "output_type": "stream",
          "name": "stdout",
          "text": [
            "+---+--------------+\n",
            "|QId|         Query|\n",
            "+---+--------------+\n",
            "|  0|         12731|\n",
            "|  1|    1545|75|31|\n",
            "|  2|           383|\n",
            "|  3|      518|1996|\n",
            "|  4|    4189|75|31|\n",
            "|  5|          1545|\n",
            "|  6|           279|\n",
            "|  7|          2684|\n",
            "|  8|           143|\n",
            "|  9|4189|75|31|290|\n",
            "+---+--------------+\n",
            "only showing top 10 rows\n",
            "\n"
          ]
        }
      ]
    },
    {
      "cell_type": "code",
      "source": [
        "descriptionid = spark.read.option(\"header\",\"false\").option(\"delimiter\",\"\\t\").csv(TRAIN_DIR+'/descriptionid_tokensid.txt')\n",
        "descriptionid = descriptionid.selectExpr('_c0 as DescId', '_c1 as Description')\n",
        "descriptionid.show(10)"
      ],
      "metadata": {
        "id": "OyRN-FFOsbBa",
        "colab": {
          "base_uri": "https://localhost:8080/"
        },
        "outputId": "ea6b23bc-873d-4241-ac5c-e0801822befe"
      },
      "execution_count": null,
      "outputs": [
        {
          "output_type": "stream",
          "name": "stdout",
          "text": [
            "+------+--------------------+\n",
            "|DescId|         Description|\n",
            "+------+--------------------+\n",
            "|     0|1545|31|40|615|1|...|\n",
            "|     1|172|46|467|170|56...|\n",
            "|     2|2672|6|1159|10966...|\n",
            "|     3|13280|35|1299|26|...|\n",
            "|     4|13327|99|128|494|...|\n",
            "|     5|12731|390|1354|1|...|\n",
            "|     6|1666|1|277|198|12...|\n",
            "|     7|69893|1894|2|1188...|\n",
            "|     8|2389|6|15|110|562...|\n",
            "|     9|13280|35|1299|26|...|\n",
            "+------+--------------------+\n",
            "only showing top 10 rows\n",
            "\n"
          ]
        }
      ]
    },
    {
      "cell_type": "code",
      "source": [
        "userid = spark.read.option(\"header\",\"false\").option(\"delimiter\",\"\\t\").csv(TRAIN_DIR+'/userid_profile.txt')\n",
        "userid = userid.selectExpr('_c0 as UId', '_c1 as Gender', '_c2 as Age')\n",
        "userid.show(10)"
      ],
      "metadata": {
        "id": "AuqkoheKsdnh",
        "colab": {
          "base_uri": "https://localhost:8080/"
        },
        "outputId": "953d70e7-40e1-4515-aba3-1dee5fc85223"
      },
      "execution_count": null,
      "outputs": [
        {
          "output_type": "stream",
          "name": "stdout",
          "text": [
            "+---+------+---+\n",
            "|UId|Gender|Age|\n",
            "+---+------+---+\n",
            "|  1|     1|  5|\n",
            "|  2|     2|  3|\n",
            "|  3|     1|  5|\n",
            "|  4|     1|  3|\n",
            "|  5|     2|  1|\n",
            "|  6|     2|  3|\n",
            "|  7|     2|  3|\n",
            "|  8|     2|  4|\n",
            "|  9|     1|  3|\n",
            "| 10|     2|  5|\n",
            "+---+------+---+\n",
            "only showing top 10 rows\n",
            "\n"
          ]
        }
      ]
    },
    {
      "cell_type": "code",
      "source": [
        "titleid = spark.read.option(\"header\",\"false\").option(\"delimiter\",\"\\t\").csv(TRAIN_DIR+'/titleid_tokensid.txt')\n",
        "titleid = titleid.selectExpr('_c0 as TitleId', '_c1 as Titile')"
      ],
      "metadata": {
        "id": "tGWYuesax64I"
      },
      "execution_count": null,
      "outputs": []
    },
    {
      "cell_type": "code",
      "source": [
        "titleid.show(10)"
      ],
      "metadata": {
        "id": "Ea_rhN6wy044",
        "colab": {
          "base_uri": "https://localhost:8080/"
        },
        "outputId": "55c198ed-7634-4438-c9ea-c2cd1f744c1f"
      },
      "execution_count": null,
      "outputs": [
        {
          "output_type": "stream",
          "name": "stdout",
          "text": [
            "+-------+--------------------+\n",
            "|TitleId|              Titile|\n",
            "+-------+--------------------+\n",
            "|      0|615|1545|75|31|1|...|\n",
            "|      1|466|582|685|1|42|...|\n",
            "|      2|12731|190|513|127...|\n",
            "|      3|2371|3970|1|2805|...|\n",
            "|      4|165|134|460|2887|...|\n",
            "|      5|2389|6|0|203|616|...|\n",
            "|      6|449|144880|8044|3...|\n",
            "|      7| 51|0|12731|8|183|94|\n",
            "|      8|35|2233|1024|455|...|\n",
            "|      9|685|282|310|1|138...|\n",
            "+-------+--------------------+\n",
            "only showing top 10 rows\n",
            "\n"
          ]
        }
      ]
    },
    {
      "cell_type": "markdown",
      "metadata": {
        "id": "-zWt3H_dGfqN"
      },
      "source": [
        "## Data pre-processing"
      ]
    },
    {
      "cell_type": "markdown",
      "source": [
        "### Gender and Age"
      ],
      "metadata": {
        "id": "3CZyWY4h3qEy"
      }
    },
    {
      "cell_type": "code",
      "execution_count": null,
      "metadata": {
        "id": "aNqIJmmEtOYj"
      },
      "outputs": [],
      "source": [
        "from pyspark.ml.feature import StringIndexer\n",
        "from pyspark.ml.feature import VectorAssembler\n",
        "from pyspark.ml.feature import OneHotEncoder"
      ]
    },
    {
      "cell_type": "code",
      "execution_count": null,
      "metadata": {
        "id": "SEnnx3iqtZsw"
      },
      "outputs": [],
      "source": [
        "# label encode\n",
        "Gender_indexer = StringIndexer(inputCol='Gender', outputCol='Gender_num').fit(userid)\n",
        "Age_indexer = StringIndexer(inputCol='Age', outputCol='Age_num').fit(userid)\n",
        "\n",
        "\n",
        "userid = Gender_indexer.transform(userid)\n",
        "userid = Age_indexer.transform(userid)"
      ]
    },
    {
      "cell_type": "code",
      "execution_count": null,
      "metadata": {
        "id": "46v1ivUhNlQN"
      },
      "outputs": [],
      "source": [
        "# one-hot encoder\n",
        "Gender_onehoter = OneHotEncoder(inputCol='Gender_num', outputCol='Gender_vector')\n",
        "Age_onehoter = OneHotEncoder(inputCol='Age_num', outputCol='Age_vector')\n",
        "\n",
        "\n",
        "ohe1 = Gender_onehoter.fit(userid)\n",
        "ohe2 = Age_onehoter.fit(userid)\n",
        "\n",
        "\n",
        "userid = ohe1.transform(userid)\n",
        "userid = ohe2.transform(userid)"
      ]
    },
    {
      "cell_type": "code",
      "source": [
        "userid.show(10)"
      ],
      "metadata": {
        "colab": {
          "base_uri": "https://localhost:8080/"
        },
        "id": "aOi_SV6_5743",
        "outputId": "9bb3e2e6-0eb1-4e69-a3fb-2b62e878271f"
      },
      "execution_count": null,
      "outputs": [
        {
          "output_type": "stream",
          "name": "stdout",
          "text": [
            "+---+------+---+----------+-------+-------------+-------------+\n",
            "|UId|Gender|Age|Gender_num|Age_num|Gender_vector|   Age_vector|\n",
            "+---+------+---+----------+-------+-------------+-------------+\n",
            "|  1|     1|  5|       0.0|    3.0|(2,[0],[1.0])|(5,[3],[1.0])|\n",
            "|  2|     2|  3|       1.0|    0.0|(2,[1],[1.0])|(5,[0],[1.0])|\n",
            "|  3|     1|  5|       0.0|    3.0|(2,[0],[1.0])|(5,[3],[1.0])|\n",
            "|  4|     1|  3|       0.0|    0.0|(2,[0],[1.0])|(5,[0],[1.0])|\n",
            "|  5|     2|  1|       1.0|    4.0|(2,[1],[1.0])|(5,[4],[1.0])|\n",
            "|  6|     2|  3|       1.0|    0.0|(2,[1],[1.0])|(5,[0],[1.0])|\n",
            "|  7|     2|  3|       1.0|    0.0|(2,[1],[1.0])|(5,[0],[1.0])|\n",
            "|  8|     2|  4|       1.0|    1.0|(2,[1],[1.0])|(5,[1],[1.0])|\n",
            "|  9|     1|  3|       0.0|    0.0|(2,[0],[1.0])|(5,[0],[1.0])|\n",
            "| 10|     2|  5|       1.0|    3.0|(2,[1],[1.0])|(5,[3],[1.0])|\n",
            "+---+------+---+----------+-------+-------------+-------------+\n",
            "only showing top 10 rows\n",
            "\n"
          ]
        }
      ]
    },
    {
      "cell_type": "markdown",
      "source": [
        "### Average Click Through Rate"
      ],
      "metadata": {
        "id": "4rGuNqRY6LHy"
      }
    },
    {
      "cell_type": "code",
      "source": [
        "# average click through rate\n",
        "temp_df1 = training.groupBy(\"AdvId\").agg((avg(\"Click\")/count(\"Click\")).alias(\"AvgClick_Advertiser\"))\n",
        "temp_df1.show(10)"
      ],
      "metadata": {
        "colab": {
          "base_uri": "https://localhost:8080/"
        },
        "id": "1Z-t5OTX6egE",
        "outputId": "75ba69bb-4967-47b2-9288-c4519e47b77a"
      },
      "execution_count": null,
      "outputs": [
        {
          "output_type": "stream",
          "name": "stdout",
          "text": [
            "+-----+--------------------+\n",
            "|AdvId| AvgClick_Advertiser|\n",
            "+-----+--------------------+\n",
            "| 6240|2.655942187761288...|\n",
            "|16250|2.414313518808267E-6|\n",
            "|16576|5.577307635578552E-6|\n",
            "|18509|3.446611080489074E-5|\n",
            "|15574| 5.67589982843738E-6|\n",
            "| 3959|3.766468677563665...|\n",
            "|35640|4.284214261725126E-6|\n",
            "|36067|2.438973812874274...|\n",
            "| 1512|7.907478035101003E-7|\n",
            "| 9993|1.491296890604827...|\n",
            "+-----+--------------------+\n",
            "only showing top 10 rows\n",
            "\n"
          ]
        }
      ]
    },
    {
      "cell_type": "code",
      "source": [
        "temp_df2 = training.groupBy(\"AdID\").agg((avg(\"Click\")/count(\"Click\")).alias(\"AvgClick_Ad\"))\n",
        "temp_df2.show(10)"
      ],
      "metadata": {
        "colab": {
          "base_uri": "https://localhost:8080/"
        },
        "id": "l93Tg32oN5Qk",
        "outputId": "3c2eb97a-a8d3-46f3-ac1e-9b6494dd16ad"
      },
      "execution_count": null,
      "outputs": [
        {
          "output_type": "stream",
          "name": "stdout",
          "text": [
            "+--------+--------------------+\n",
            "|    AdID|         AvgClick_Ad|\n",
            "+--------+--------------------+\n",
            "| 3373959|6.114538064567283E-5|\n",
            "| 4331513|4.759071980963712...|\n",
            "|22158484|7.941253056966983E-8|\n",
            "|21405511|3.327416385954420...|\n",
            "|21161676|3.228305785123967E-5|\n",
            "|20563853|5.245001088692118E-6|\n",
            "|21697120|1.143118427069044...|\n",
            "|22134864|                 0.0|\n",
            "|20935476|1.502313562886845...|\n",
            "|20665592|3.218520887928685...|\n",
            "+--------+--------------------+\n",
            "only showing top 10 rows\n",
            "\n"
          ]
        }
      ]
    },
    {
      "cell_type": "code",
      "source": [
        "temp_df3 = training.groupBy(\"QId\").agg((avg(\"Click\")/count(\"Click\")).alias(\"AvgClick_Query\"))\n",
        "temp_df3.show(10)"
      ],
      "metadata": {
        "colab": {
          "base_uri": "https://localhost:8080/"
        },
        "id": "79Ze-r9KACM_",
        "outputId": "97a69d48-4f88-47c3-b6ae-5c947b248fcf"
      },
      "execution_count": null,
      "outputs": [
        {
          "output_type": "stream",
          "name": "stdout",
          "text": [
            "+--------+--------------------+\n",
            "|     QId|      AvgClick_Query|\n",
            "+--------+--------------------+\n",
            "|    7252|3.282448093554147E-5|\n",
            "|19195250|                 0.0|\n",
            "|  251284| 5.94883997620464E-4|\n",
            "|  497229|                 0.0|\n",
            "|   11563|2.409557267947587E-5|\n",
            "| 1175624|                 0.0|\n",
            "|    2162|4.856653814673367...|\n",
            "|   55089|2.602617489589530...|\n",
            "|24924868|                 0.0|\n",
            "|17640726|                 0.0|\n",
            "+--------+--------------------+\n",
            "only showing top 10 rows\n",
            "\n"
          ]
        }
      ]
    },
    {
      "cell_type": "code",
      "source": [
        "temp_df4 = training.groupBy(\"KeyId\").agg((avg(\"Click\")/count(\"Click\")).alias(\"AvgClick_Key\"))\n",
        "temp_df4.show(10)"
      ],
      "metadata": {
        "colab": {
          "base_uri": "https://localhost:8080/"
        },
        "id": "kgLu383dOhdo",
        "outputId": "780aa418-3002-494a-fee8-c06e39eb831a"
      },
      "execution_count": null,
      "outputs": [
        {
          "output_type": "stream",
          "name": "stdout",
          "text": [
            "+------+--------------------+\n",
            "| KeyId|        AvgClick_Key|\n",
            "+------+--------------------+\n",
            "| 30002|3.459000752332664E-5|\n",
            "|  1512|4.175182556630501E-6|\n",
            "| 23318|2.029056083110137E-5|\n",
            "|  3210|1.335024194128823...|\n",
            "|   296|  9.8701362446419E-7|\n",
            "|  2294|5.153212629260496...|\n",
            "|  2069|2.549041550331591...|\n",
            "|671956|                 0.0|\n",
            "| 17401|1.170516859882673...|\n",
            "| 39645|1.334659904389818E-4|\n",
            "+------+--------------------+\n",
            "only showing top 10 rows\n",
            "\n"
          ]
        }
      ]
    },
    {
      "cell_type": "code",
      "source": [
        "temp_df5 = training.groupBy(\"TitleId\").agg((avg(\"Click\")/count(\"Click\")).alias(\"AvgClick_Title\"))\n",
        "temp_df5.show(10)"
      ],
      "metadata": {
        "colab": {
          "base_uri": "https://localhost:8080/"
        },
        "id": "6m_6lrg2OmX6",
        "outputId": "30cc1a7d-ac30-4490-cff6-953c3503b1a9"
      },
      "execution_count": null,
      "outputs": [
        {
          "output_type": "stream",
          "name": "stdout",
          "text": [
            "+-------+--------------------+\n",
            "|TitleId|      AvgClick_Title|\n",
            "+-------+--------------------+\n",
            "|    829|3.876514672414457E-6|\n",
            "| 451192|0.003567181926278...|\n",
            "|   4937|5.283697703680402E-5|\n",
            "| 231563|                 0.0|\n",
            "| 147414|4.058112166220274E-4|\n",
            "|   2069|7.873862574234313E-6|\n",
            "|  16576|1.555263166080332...|\n",
            "| 271864|3.844675124951941...|\n",
            "|    675|9.207285107188607E-6|\n",
            "|  19095|4.535402943064201E-5|\n",
            "+-------+--------------------+\n",
            "only showing top 10 rows\n",
            "\n"
          ]
        }
      ]
    },
    {
      "cell_type": "code",
      "source": [
        "temp_df6 = training.groupBy(\"DescId\").agg((avg(\"Click\")/count(\"Click\")).alias(\"AvgClick_Desciption\"))\n",
        "temp_df6.show(10)"
      ],
      "metadata": {
        "colab": {
          "base_uri": "https://localhost:8080/"
        },
        "id": "iIjdGNNlOxMu",
        "outputId": "fa7bbb81-9918-4b3a-cff5-5a55e8474e4d"
      },
      "execution_count": null,
      "outputs": [
        {
          "output_type": "stream",
          "name": "stdout",
          "text": [
            "+------+--------------------+\n",
            "|DescId| AvgClick_Desciption|\n",
            "+------+--------------------+\n",
            "|973354|                 0.0|\n",
            "|  3414|1.129513499508115...|\n",
            "|216438|0.001423994304022...|\n",
            "|232050|                 0.0|\n",
            "| 27108|5.519628904309505E-5|\n",
            "|   829|2.645304194908614E-6|\n",
            "|256062|                 0.0|\n",
            "|   691| 1.12654217723878E-6|\n",
            "|   467|2.656038998339539E-6|\n",
            "| 58185|2.085027418110548E-5|\n",
            "+------+--------------------+\n",
            "only showing top 10 rows\n",
            "\n"
          ]
        }
      ]
    },
    {
      "cell_type": "markdown",
      "source": [
        "### Join tables together"
      ],
      "metadata": {
        "id": "k3gPCDBjO-Rk"
      }
    },
    {
      "cell_type": "code",
      "source": [
        "train_df = training.join(userid, on=\"UId\", how=\"inner\")\n",
        "train_df = train_df.join(temp_df1, on=\"AdvId\", how=\"inner\")\n",
        "train_df = train_df.join(temp_df2, on=\"AdId\", how=\"inner\")\n",
        "train_df = train_df.join(temp_df3, on=\"QId\", how=\"inner\")\n",
        "train_df = train_df.join(temp_df4, on=\"KeyId\", how=\"inner\")\n",
        "train_df = train_df.join(temp_df5, on=\"TitleId\", how=\"inner\")\n",
        "train_df = train_df.join(temp_df6, on=\"DescId\", how=\"inner\")\n",
        "train_df.show(10)"
      ],
      "metadata": {
        "id": "Nrkk4Bn4bEmb",
        "colab": {
          "base_uri": "https://localhost:8080/"
        },
        "outputId": "b45895da-6da6-40d9-9070-1c582e230a9a"
      },
      "execution_count": null,
      "outputs": [
        {
          "output_type": "stream",
          "name": "stdout",
          "text": [
            "+-------+-------+-----+--------+--------+-----+--------+-----+----------+--------------------+-----+---+------+---+----------+-------+-------------+-------------+--------------------+--------------------+--------------+--------------------+--------------------+--------------------+\n",
            "| DescId|TitleId|KeyId|     QId|    AdId|AdvId|     UId|Click|Impression|               AdURL|Depth|Pos|Gender|Age|Gender_num|Age_num|Gender_vector|   Age_vector| AvgClick_Advertiser|         AvgClick_Ad|AvgClick_Query|        AvgClick_Key|      AvgClick_Title| AvgClick_Desciption|\n",
            "+-------+-------+-----+--------+--------+-----+--------+-----+----------+--------------------+-----+---+------+---+----------+-------+-------------+-------------+--------------------+--------------------+--------------+--------------------+--------------------+--------------------+\n",
            "|1000096|1094377| 8989| 2181703| 4838685|19509|    4818|    0|         1| 3902477925057104899|    2|  2|     1|  3|       0.0|    0.0|(2,[0],[1.0])|(5,[0],[1.0])|8.630139658098031E-7|2.010899072975527...|           0.0|2.437062356911438E-6|                 0.0|                 0.0|\n",
            "| 100010|  98951|67334|23835685|20157092|27961|18255542|    0|         1|12057878999086460853|    1|  1|     1|  4|       0.0|    1.0|(2,[0],[1.0])|(5,[1],[1.0])|3.194563722789770...|5.446616644623657E-5|           0.0|4.247276433986706E-5|6.104819755196727E-5|4.271861249946601...|\n",
            "| 100010|  98951|67334|25064247|20157092|27961|21718946|    0|         1|12057878999086460853|    1|  1|     1|  3|       0.0|    0.0|(2,[0],[1.0])|(5,[0],[1.0])|3.194563722789770...|5.446616644623657E-5|           0.0|4.247276433986706E-5|6.104819755196727E-5|4.271861249946601...|\n",
            "| 100010|  98951|67334|21916439|20157092|27961| 2814541|    0|         1|12057878999086460853|    1|  1|     1|  3|       0.0|    0.0|(2,[0],[1.0])|(5,[0],[1.0])|3.194563722789770...|5.446616644623657E-5|           0.0|4.247276433986706E-5|6.104819755196727E-5|4.271861249946601...|\n",
            "| 100010|  98951|67334|16668280|20157092|27961|16962022|    0|         1|12057878999086460853|    1|  1|     1|  2|       0.0|    2.0|(2,[0],[1.0])|(5,[2],[1.0])|3.194563722789770...|5.446616644623657E-5|           0.0|4.247276433986706E-5|6.104819755196727E-5|4.271861249946601...|\n",
            "| 100010|  98951|67334| 8481774|20157092|27961| 1847693|    0|         1|12057878999086460853|    2|  1|     1|  2|       0.0|    2.0|(2,[0],[1.0])|(5,[2],[1.0])|3.194563722789770...|5.446616644623657E-5|           0.0|4.247276433986706E-5|6.104819755196727E-5|4.271861249946601...|\n",
            "| 100010|  98951|67334| 6387120|20157092|27961|   49421|    0|         1|12057878999086460853|    2|  1|     1|  3|       0.0|    0.0|(2,[0],[1.0])|(5,[0],[1.0])|3.194563722789770...|5.446616644623657E-5|           0.0|4.247276433986706E-5|6.104819755196727E-5|4.271861249946601...|\n",
            "| 100010|  98951|67334|18032897|20157092|27961|17985395|    0|         1|12057878999086460853|    1|  1|     1|  5|       0.0|    3.0|(2,[0],[1.0])|(5,[3],[1.0])|3.194563722789770...|5.446616644623657E-5|           0.0|4.247276433986706E-5|6.104819755196727E-5|4.271861249946601...|\n",
            "| 100010|  98951|67334|23949556|20157092|27961| 2052652|    0|         1|12057878999086460853|    1|  1|     2|  5|       1.0|    3.0|(2,[1],[1.0])|(5,[3],[1.0])|3.194563722789770...|5.446616644623657E-5|           0.0|4.247276433986706E-5|6.104819755196727E-5|4.271861249946601...|\n",
            "| 100010|  98951|67334|19959529|20157092|27961|    2419|    0|         1|12057878999086460853|    1|  1|     2|  3|       1.0|    0.0|(2,[1],[1.0])|(5,[0],[1.0])|3.194563722789770...|5.446616644623657E-5|           0.0|4.247276433986706E-5|6.104819755196727E-5|4.271861249946601...|\n",
            "+-------+-------+-----+--------+--------+-----+--------+-----+----------+--------------------+-----+---+------+---+----------+-------+-------------+-------------+--------------------+--------------------+--------------+--------------------+--------------------+--------------------+\n",
            "only showing top 10 rows\n",
            "\n"
          ]
        }
      ]
    },
    {
      "cell_type": "markdown",
      "metadata": {
        "id": "y6uvtaROOsFH"
      },
      "source": [
        "## Logistic Regression Model"
      ]
    },
    {
      "cell_type": "code",
      "execution_count": null,
      "metadata": {
        "id": "n-rbmIvGNmi0",
        "colab": {
          "base_uri": "https://localhost:8080/",
          "height": 380
        },
        "outputId": "d125622e-76ab-4acd-bbe9-10d49f804f74"
      },
      "outputs": [
        {
          "output_type": "error",
          "ename": "IllegalArgumentException",
          "evalue": "ignored",
          "traceback": [
            "\u001b[0;31m---------------------------------------------------------------------------\u001b[0m",
            "\u001b[0;31mIllegalArgumentException\u001b[0m                  Traceback (most recent call last)",
            "\u001b[0;32m<ipython-input-27-3811ad522a4e>\u001b[0m in \u001b[0;36m<module>\u001b[0;34m()\u001b[0m\n\u001b[1;32m      7\u001b[0m                         'AvgClick_Title', 'AvgClick_Desciption'],\n\u001b[1;32m      8\u001b[0m                  outputCol='features')\n\u001b[0;32m----> 9\u001b[0;31m \u001b[0mtrain_df\u001b[0m \u001b[0;34m=\u001b[0m \u001b[0mtrain_assembler\u001b[0m\u001b[0;34m.\u001b[0m\u001b[0mtransform\u001b[0m\u001b[0;34m(\u001b[0m\u001b[0mtrain_df\u001b[0m\u001b[0;34m)\u001b[0m\u001b[0;34m\u001b[0m\u001b[0;34m\u001b[0m\u001b[0m\n\u001b[0m",
            "\u001b[0;32m/usr/local/lib/python3.7/dist-packages/pyspark/ml/base.py\u001b[0m in \u001b[0;36mtransform\u001b[0;34m(self, dataset, params)\u001b[0m\n\u001b[1;32m    215\u001b[0m                 \u001b[0;32mreturn\u001b[0m \u001b[0mself\u001b[0m\u001b[0;34m.\u001b[0m\u001b[0mcopy\u001b[0m\u001b[0;34m(\u001b[0m\u001b[0mparams\u001b[0m\u001b[0;34m)\u001b[0m\u001b[0;34m.\u001b[0m\u001b[0m_transform\u001b[0m\u001b[0;34m(\u001b[0m\u001b[0mdataset\u001b[0m\u001b[0;34m)\u001b[0m\u001b[0;34m\u001b[0m\u001b[0;34m\u001b[0m\u001b[0m\n\u001b[1;32m    216\u001b[0m             \u001b[0;32melse\u001b[0m\u001b[0;34m:\u001b[0m\u001b[0;34m\u001b[0m\u001b[0;34m\u001b[0m\u001b[0m\n\u001b[0;32m--> 217\u001b[0;31m                 \u001b[0;32mreturn\u001b[0m \u001b[0mself\u001b[0m\u001b[0;34m.\u001b[0m\u001b[0m_transform\u001b[0m\u001b[0;34m(\u001b[0m\u001b[0mdataset\u001b[0m\u001b[0;34m)\u001b[0m\u001b[0;34m\u001b[0m\u001b[0;34m\u001b[0m\u001b[0m\n\u001b[0m\u001b[1;32m    218\u001b[0m         \u001b[0;32melse\u001b[0m\u001b[0;34m:\u001b[0m\u001b[0;34m\u001b[0m\u001b[0;34m\u001b[0m\u001b[0m\n\u001b[1;32m    219\u001b[0m             \u001b[0;32mraise\u001b[0m \u001b[0mTypeError\u001b[0m\u001b[0;34m(\u001b[0m\u001b[0;34m\"Params must be a param map but got %s.\"\u001b[0m \u001b[0;34m%\u001b[0m \u001b[0mtype\u001b[0m\u001b[0;34m(\u001b[0m\u001b[0mparams\u001b[0m\u001b[0;34m)\u001b[0m\u001b[0;34m)\u001b[0m\u001b[0;34m\u001b[0m\u001b[0;34m\u001b[0m\u001b[0m\n",
            "\u001b[0;32m/usr/local/lib/python3.7/dist-packages/pyspark/ml/wrapper.py\u001b[0m in \u001b[0;36m_transform\u001b[0;34m(self, dataset)\u001b[0m\n\u001b[1;32m    348\u001b[0m     \u001b[0;32mdef\u001b[0m \u001b[0m_transform\u001b[0m\u001b[0;34m(\u001b[0m\u001b[0mself\u001b[0m\u001b[0;34m,\u001b[0m \u001b[0mdataset\u001b[0m\u001b[0;34m)\u001b[0m\u001b[0;34m:\u001b[0m\u001b[0;34m\u001b[0m\u001b[0;34m\u001b[0m\u001b[0m\n\u001b[1;32m    349\u001b[0m         \u001b[0mself\u001b[0m\u001b[0;34m.\u001b[0m\u001b[0m_transfer_params_to_java\u001b[0m\u001b[0;34m(\u001b[0m\u001b[0;34m)\u001b[0m\u001b[0;34m\u001b[0m\u001b[0;34m\u001b[0m\u001b[0m\n\u001b[0;32m--> 350\u001b[0;31m         \u001b[0;32mreturn\u001b[0m \u001b[0mDataFrame\u001b[0m\u001b[0;34m(\u001b[0m\u001b[0mself\u001b[0m\u001b[0;34m.\u001b[0m\u001b[0m_java_obj\u001b[0m\u001b[0;34m.\u001b[0m\u001b[0mtransform\u001b[0m\u001b[0;34m(\u001b[0m\u001b[0mdataset\u001b[0m\u001b[0;34m.\u001b[0m\u001b[0m_jdf\u001b[0m\u001b[0;34m)\u001b[0m\u001b[0;34m,\u001b[0m \u001b[0mdataset\u001b[0m\u001b[0;34m.\u001b[0m\u001b[0msql_ctx\u001b[0m\u001b[0;34m)\u001b[0m\u001b[0;34m\u001b[0m\u001b[0;34m\u001b[0m\u001b[0m\n\u001b[0m\u001b[1;32m    351\u001b[0m \u001b[0;34m\u001b[0m\u001b[0m\n\u001b[1;32m    352\u001b[0m \u001b[0;34m\u001b[0m\u001b[0m\n",
            "\u001b[0;32m/usr/local/lib/python3.7/dist-packages/py4j/java_gateway.py\u001b[0m in \u001b[0;36m__call__\u001b[0;34m(self, *args)\u001b[0m\n\u001b[1;32m   1320\u001b[0m         \u001b[0manswer\u001b[0m \u001b[0;34m=\u001b[0m \u001b[0mself\u001b[0m\u001b[0;34m.\u001b[0m\u001b[0mgateway_client\u001b[0m\u001b[0;34m.\u001b[0m\u001b[0msend_command\u001b[0m\u001b[0;34m(\u001b[0m\u001b[0mcommand\u001b[0m\u001b[0;34m)\u001b[0m\u001b[0;34m\u001b[0m\u001b[0;34m\u001b[0m\u001b[0m\n\u001b[1;32m   1321\u001b[0m         return_value = get_return_value(\n\u001b[0;32m-> 1322\u001b[0;31m             answer, self.gateway_client, self.target_id, self.name)\n\u001b[0m\u001b[1;32m   1323\u001b[0m \u001b[0;34m\u001b[0m\u001b[0m\n\u001b[1;32m   1324\u001b[0m         \u001b[0;32mfor\u001b[0m \u001b[0mtemp_arg\u001b[0m \u001b[0;32min\u001b[0m \u001b[0mtemp_args\u001b[0m\u001b[0;34m:\u001b[0m\u001b[0;34m\u001b[0m\u001b[0;34m\u001b[0m\u001b[0m\n",
            "\u001b[0;32m/usr/local/lib/python3.7/dist-packages/pyspark/sql/utils.py\u001b[0m in \u001b[0;36mdeco\u001b[0;34m(*a, **kw)\u001b[0m\n\u001b[1;32m    115\u001b[0m                 \u001b[0;31m# Hide where the exception came from that shows a non-Pythonic\u001b[0m\u001b[0;34m\u001b[0m\u001b[0;34m\u001b[0m\u001b[0;34m\u001b[0m\u001b[0m\n\u001b[1;32m    116\u001b[0m                 \u001b[0;31m# JVM exception message.\u001b[0m\u001b[0;34m\u001b[0m\u001b[0;34m\u001b[0m\u001b[0;34m\u001b[0m\u001b[0m\n\u001b[0;32m--> 117\u001b[0;31m                 \u001b[0;32mraise\u001b[0m \u001b[0mconverted\u001b[0m \u001b[0;32mfrom\u001b[0m \u001b[0;32mNone\u001b[0m\u001b[0;34m\u001b[0m\u001b[0;34m\u001b[0m\u001b[0m\n\u001b[0m\u001b[1;32m    118\u001b[0m             \u001b[0;32melse\u001b[0m\u001b[0;34m:\u001b[0m\u001b[0;34m\u001b[0m\u001b[0;34m\u001b[0m\u001b[0m\n\u001b[1;32m    119\u001b[0m                 \u001b[0;32mraise\u001b[0m\u001b[0;34m\u001b[0m\u001b[0;34m\u001b[0m\u001b[0m\n",
            "\u001b[0;31mIllegalArgumentException\u001b[0m: AvgImp_Advertiser does not exist. Available: DescId, TitleId, KeyId, QId, AdId, AdvId, UId, Click, Impression, AdURL, Depth, Pos, Gender, Age, Gender_num, Age_num, Gender_vector, Age_vector, AvgClick_Advertiser, AvgClick_Ad, AvgClick_Query, AvgClick_Key, AvgClick_Title, AvgClick_Desciption"
          ]
        }
      ],
      "source": [
        "from pyspark.ml.feature import VectorAssembler\n",
        "\n",
        "train_assembler = VectorAssembler(inputCols=['Impression', 'Depth', 'Pos', \n",
        "                        'Gender_vector', 'Age_vector',\n",
        "                        'AvgImp_Advertiser', 'AvgClick_Ad',\n",
        "                        'AvgClick_Query', 'AvgClick_Key',\n",
        "                        'AvgClick_Title', 'AvgClick_Desciption'],\n",
        "                 outputCol='features')\n",
        "train_df = train_assembler.transform(train_df)"
      ]
    },
    {
      "cell_type": "code",
      "execution_count": null,
      "metadata": {
        "id": "VJyw4hPGOze8"
      },
      "outputs": [],
      "source": [
        "# split the dataset\n",
        "dataset = train_df.select(['features', 'Click'])\n",
        "train, test = dataset.randomSplit([0.8, 0.2])"
      ]
    },
    {
      "cell_type": "code",
      "execution_count": null,
      "metadata": {
        "id": "0u1sXZeFO9sj"
      },
      "outputs": [],
      "source": [
        "from pyspark.ml.classification import LogisticRegression\n",
        "\n",
        "log_reg = LogisticRegression(labelCol = 'Click').fit(train)\n",
        "\n",
        "train_pred = log_reg.evaluate(train).predictions\n",
        "\n",
        "train_pred.filter(train_pred['Click'] == 1).filter(train_pred['prediction'] == 1).select(['Click', 'prediction', 'probability']).show(10, False)"
      ]
    },
    {
      "cell_type": "markdown",
      "metadata": {
        "id": "G86YruCYPdHT"
      },
      "source": [
        "### Model Evaluation"
      ]
    },
    {
      "cell_type": "code",
      "execution_count": null,
      "metadata": {
        "id": "X_xOke2gPZfc"
      },
      "outputs": [],
      "source": [
        "result_lr = log_reg.evaluate(test).predictions\n",
        "result_lr.show(3)"
      ]
    },
    {
      "cell_type": "code",
      "execution_count": null,
      "metadata": {
        "id": "-bBZ8Y6vPif9"
      },
      "outputs": [],
      "source": [
        "tp_lr = result_lr[(result_lr.label == 1) & (result_lr.prediction == 1)].count()\n",
        "tn_lr = result_lr[(result_lr.label == 0) & (result_lr.prediction == 1)].count()\n",
        "fp_lr = result_lr[(result_lr.label == 0) & (result_lr.prediction == 1)].count()\n",
        "fn_lr = result_lr[(result_lr.label == 1) & (result_lr.prediction == 0)].count()\n",
        "\n",
        "print('tp is : %f'%(tp_lr))\n",
        "print('tn is : %f'%(tn_lr))\n",
        "print('fp is : %f'%(fp_lr))\n",
        "print('fn is : %f'%(fn_lr))"
      ]
    },
    {
      "cell_type": "code",
      "source": [
        "# Accuracy\n",
        "print('test accuracy is : %f'%((tp_lr+tn_lr)/(tp_lr+tn_lr+fp_lr+fn_lr)))\n",
        "\n",
        "# Recall\n",
        "print('test accuracy is : %f'%(tp_lr/(tp_lr+fn_lr)))\n",
        "\n",
        "# Precision\n",
        "print('test accuracy is : %f'%(tp_lr/(tp_lr+fp_lr)))"
      ],
      "metadata": {
        "id": "2t182OldjVBW"
      },
      "execution_count": null,
      "outputs": []
    },
    {
      "cell_type": "code",
      "source": [
        "preds_lr = result_lr.select('Click','probability').rdd.map(lambda row: (float(row['probability'][1]), float(row['Click']))).collect()\n",
        "\n",
        "from sklearn.metrics import roc_curve\n",
        "y_score, y_true = zip(*preds_lr)\n",
        "fpr, tpr, thresholds = roc_curve(y_true, y_score, pos_label = 1)"
      ],
      "metadata": {
        "id": "G0e8B1sHDwSq"
      },
      "execution_count": null,
      "outputs": []
    },
    {
      "cell_type": "code",
      "source": [
        "import matplotlib.pyplot as plt\n",
        "\n",
        "plt.plot(fpr, tpr)\n",
        "plt.title('ROC curve')\n",
        "plt.xlabel('False Positive Rate')\n",
        "plt.ylabel('True Positive Rate')"
      ],
      "metadata": {
        "id": "Uw92gNs9DyWc"
      },
      "execution_count": null,
      "outputs": []
    },
    {
      "cell_type": "markdown",
      "source": [
        "## Random Forest"
      ],
      "metadata": {
        "id": "fLShxmXMrnyt"
      }
    },
    {
      "cell_type": "code",
      "source": [
        "from pyspark.ml.classification import RandomForestClassifier\n",
        "\n",
        "rf = RandomForestClassifier(featuresCol = 'features', labelCol = 'Click')\n",
        "rf_model = rf.fit(train)"
      ],
      "metadata": {
        "id": "ta36nlfFrtKq"
      },
      "execution_count": null,
      "outputs": []
    },
    {
      "cell_type": "code",
      "source": [
        "result_rf = rf_model.transform(test).select(\"Click\", \"probability\").rdd.map(lambda row: (float(row['probability'][1]), float(row['Click']))).collect()\n",
        "result_rf.show(5)"
      ],
      "metadata": {
        "id": "sK4_uxCq_Oy3"
      },
      "execution_count": null,
      "outputs": []
    },
    {
      "cell_type": "code",
      "source": [
        "tp_rf = result_rf[(result_rf.label == 1) & (result_rf.prediction == 1)].count()\n",
        "tn_rf = result_rf[(result_rf.label == 0) & (result_rf.prediction == 1)].count()\n",
        "fp_rf = result_rf[(result_rf.label == 0) & (result_rf.prediction == 1)].count()\n",
        "fn_rf = result_rf[(result_rf.label == 1) & (result_rf.prediction == 0)].count()\n",
        "\n",
        "print('tp is : %f'%(tp_rf))\n",
        "print('tn is : %f'%(tn_rf))\n",
        "print('fp is : %f'%(fp_rf))\n",
        "print('fn is : %f'%(fn_rf))"
      ],
      "metadata": {
        "id": "Fpg6wKNiHMq0"
      },
      "execution_count": null,
      "outputs": []
    },
    {
      "cell_type": "code",
      "source": [
        "# Accuracy\n",
        "print('test accuracy is : %f'%((tp_rf+tn_rf)/(tp_rf+tn_rf+fp_rf+fn_rf)))\n",
        "\n",
        "# Recall\n",
        "print('test accuracy is : %f'%(tp_rf/(tp_rf+fn_rf)))\n",
        "\n",
        "# Precision\n",
        "print('test accuracy is : %f'%(tp_rf/(tp_rf+fp_rf)))"
      ],
      "metadata": {
        "id": "Vy0FIS8QHP-9"
      },
      "execution_count": null,
      "outputs": []
    },
    {
      "cell_type": "markdown",
      "source": [
        "## Naive Bayes"
      ],
      "metadata": {
        "id": "X-uVUyLjjj_v"
      }
    },
    {
      "cell_type": "code",
      "source": [
        "from pyspark.ml.feature import VectorAssembler \n",
        "from pyspark.ml.classification import NaiveBayes \n",
        "from pyspark.ml.evaluation import MulticlassClassificationEvaluator\n",
        "\n",
        "\n",
        "train_nb_assembler = VectorAssembler(inputCols=['UId',\n",
        "                        'QId', 'AdId',\n",
        "                        'KeyId', 'Pos'],\n",
        "                 outputCol='features')\n",
        "train_nb_df = train_nb_assembler.transform(training)"
      ],
      "metadata": {
        "id": "pnloDtGKj-qS"
      },
      "execution_count": null,
      "outputs": []
    },
    {
      "cell_type": "code",
      "source": [
        "# split the dataset\n",
        "dataset_nb = train_nb_df.select(['features', 'Click'])\n",
        "train_nb, test_nb = dataset_nb.randomSplit([0.8, 0.2])"
      ],
      "metadata": {
        "id": "JkT2en9go67p"
      },
      "execution_count": null,
      "outputs": []
    },
    {
      "cell_type": "code",
      "source": [
        "nb = NaiveBayes(modelType='multinomial')\n",
        "nbmodel = nb.fit(train_nb)"
      ],
      "metadata": {
        "id": "rxtXZszVpJYQ"
      },
      "execution_count": null,
      "outputs": []
    },
    {
      "cell_type": "markdown",
      "source": [
        "### Model Evaluation"
      ],
      "metadata": {
        "id": "rpcg-ojgpWGv"
      }
    },
    {
      "cell_type": "code",
      "source": [
        "result_nb = nbmodel.transform(test_nb)\n",
        "result_nb.show(5)"
      ],
      "metadata": {
        "id": "ebuzpRthpau4"
      },
      "execution_count": null,
      "outputs": []
    },
    {
      "cell_type": "code",
      "execution_count": null,
      "metadata": {
        "id": "-Jlr8nLsrJil"
      },
      "outputs": [],
      "source": [
        "tp_nb = result_nb[(result_nb.label == 1) & (result_nb.prediction == 1)].count()\n",
        "tn_nb = result_nb[(result_nb.label == 0) & (result_nb.prediction == 1)].count()\n",
        "fp_nb = result_nb[(result_nb.label == 0) & (result_nb.prediction == 1)].count()\n",
        "fn_nb = result_nb[(result_nb.label == 1) & (result_nb.prediction == 0)].count()\n",
        "\n",
        "print('tp is : %f'%(tp_nb))\n",
        "print('tn is : %f'%(tn_nb))\n",
        "print('fp is : %f'%(fp_nb))\n",
        "print('fn is : %f'%(fn_nb))"
      ]
    },
    {
      "cell_type": "code",
      "source": [
        "# Accuracy\n",
        "print('test accuracy is : %f'%((tp_nb+tn_nb)/(tp_nb+tn_nb+fp_nb+fn_nb)))\n",
        "\n",
        "# Recall\n",
        "print('test accuracy is : %f'%(tp_nb/(tp_nb+fn_nb)))\n",
        "\n",
        "# Precision\n",
        "print('test accuracy is : %f'%(tp_nb/(tp_nb+fp_nb)))"
      ],
      "metadata": {
        "id": "XTvodLfUrNlb"
      },
      "execution_count": null,
      "outputs": []
    },
    {
      "cell_type": "code",
      "source": [
        "preds_nb = result_nb.select('Click','probability').rdd.map(lambda row: (float(row['probability'][1]), float(row['Click']))).collect()\n",
        "\n",
        "from sklearn.metrics import roc_curve\n",
        "y_score, y_true = zip(*preds_nb)\n",
        "fpr, tpr, thresholds = roc_curve(y_true, y_score, pos_label = 1)"
      ],
      "metadata": {
        "id": "he0HWC9mAs2R"
      },
      "execution_count": null,
      "outputs": []
    },
    {
      "cell_type": "code",
      "source": [
        "import matplotlib.pyplot as plt\n",
        "\n",
        "plt.plot(fpr, tpr)\n",
        "plt.title('ROC curve')\n",
        "plt.xlabel('False Positive Rate')\n",
        "plt.ylabel('True Positive Rate')"
      ],
      "metadata": {
        "id": "nwv39D3jAu5s"
      },
      "execution_count": null,
      "outputs": []
    }
  ],
  "metadata": {
    "colab": {
      "collapsed_sections": [
        "4mCA2mboGoav",
        "kjdp8pAw7Isp"
      ],
      "name": "Model_Final.ipynb",
      "provenance": [],
      "include_colab_link": true
    },
    "kernelspec": {
      "display_name": "Python 3",
      "name": "python3"
    },
    "language_info": {
      "name": "python"
    }
  },
  "nbformat": 4,
  "nbformat_minor": 0
}
