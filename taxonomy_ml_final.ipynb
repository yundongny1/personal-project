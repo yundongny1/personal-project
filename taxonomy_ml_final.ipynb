{
 "cells": [
  {
   "cell_type": "code",
   "execution_count": 5,
   "metadata": {},
   "outputs": [],
   "source": [
    "import psycopg2\n",
    "import pandas as pd\n",
    "import numpy as np\n",
    "import seaborn as sns\n",
    "import pyLDAvis\n",
    "import pyLDAvis.sklearn\n",
    "import re \n",
    "\n",
    "import winsound\n",
    "import nltk\n",
    "\n",
    "#nltk.download('punkt')\n",
    "from nltk.stem import *\n",
    "from nltk.corpus import stopwords\n",
    "from collections import Counter\n",
    "from sklearn.naive_bayes import MultinomialNB\n",
    "from sklearn.feature_extraction.text import CountVectorizer\n",
    "from sklearn.model_selection import train_test_split\n",
    "from sklearn.metrics import classification_report\n",
    "from matplotlib import pyplot as plt\n",
    "from sklearn.decomposition import LatentDirichletAllocation as LDA\n",
    "\n",
    "from imblearn.metrics import classification_report_imbalanced\n",
    "from imblearn.datasets import make_imbalance\n",
    "import xgboost as xgb\n",
    "from xgboost.sklearn import XGBClassifier\n",
    "from sklearn.model_selection import GridSearchCV \n",
    "from sklearn.model_selection import ParameterGrid\n",
    "from sklearn.metrics import f1_score\n",
    "from sklearn.ensemble import RandomForestClassifier\n",
    "\n",
    "from sklearn.preprocessing import LabelEncoder\n",
    "\n",
    "from psycopg2 import extras\n",
    "from config.postgres_config import host, database\n",
    "from security.postgres_security import user, password"
   ]
  },
  {
   "cell_type": "code",
   "execution_count": 6,
   "metadata": {},
   "outputs": [
    {
     "name": "stderr",
     "output_type": "stream",
     "text": [
      "c:\\Users\\jxk8080\\Anaconda3\\lib\\site-packages\\pandas\\io\\sql.py:761: UserWarning: pandas only support SQLAlchemy connectable(engine/connection) ordatabase string URI or sqlite3 DBAPI2 connectionother DBAPI2 objects are not tested, please consider using SQLAlchemy\n",
      "  warnings.warn(\n"
     ]
    }
   ],
   "source": [
    "#set a connection with database and pull query from sandbox\n",
    "#this only works if vpn connection is established\n",
    "\n",
    "def pull_data_from_postgres():\n",
    "    try:\n",
    "        with psycopg2.connect(user= user,\n",
    "                                  password = password,\n",
    "                                  host = host,\n",
    "                                  database = database) as conn:\n",
    "            df = pd.read_sql(\"\"\"\n",
    "                             SELECT DISTINCT\n",
    "                                invoice_uom,\n",
    "                                material_group_description,\n",
    "                                material_description,\n",
    "                                cost_center_text,\n",
    "                                g_l_account_text,\n",
    "                                cat_lvl_0_text,\n",
    "                                cat_lvl_1_text,\n",
    "                                cat_lvl_2_text,\n",
    "                                cat_lvl_3_text,\n",
    "                                cat_lvl_4_text,\n",
    "                                cat_lvl_5_text\n",
    "                                FROM sandbox_jxk8080.example \n",
    "                            ;\"\"\", conn)\n",
    "    finally:\n",
    "        conn.close()\n",
    "    return df\n",
    "\n",
    "df = pull_data_from_postgres()"
   ]
  },
  {
   "cell_type": "code",
   "execution_count": 7,
   "metadata": {},
   "outputs": [],
   "source": [
    "#data cleaning\n",
    "\n",
    "#fill na values to nan\n",
    "df = df.fillna(value=np.nan)\n",
    "\n",
    "#There is a trend in the data where if invoice_uom is null, material_group_description and material_description is null as well. \n",
    "#These datapoints instead have cost_center_text and g_l_account_text as descriptions.\n",
    "\n",
    "df_null_invoice_uom = df[(df[\"invoice_uom\"].isnull()) & (df['material_group_description'].isnull()) & (df['material_description'].isnull())]\n",
    "\n",
    "#df where material description is not null & cat level 3 is classfied.\n",
    "#this will be our training dataset\n",
    "train_df = df[(df[\"cat_lvl_3_text\"] != \"UNCLASSIFIED\") & (df[\"material_group_description\"].notnull())][[\"material_group_description\",\"material_description\", \"cat_lvl_3_text\"]]\n",
    "unclassified_df = df[(df[\"cat_lvl_3_text\"] == \"UNCLASSIFIED\") & (df[\"material_group_description\"].notnull())][[\"material_group_description\", \"material_description\", \"cat_lvl_3_text\"]] \n",
    "\n",
    "#remove stop words from material group description\n",
    "stop = stopwords.words('english')\n",
    "train_df['material_group_description'] = train_df['material_group_description'].apply(lambda x: ' '.join([word for word in x.split() if word not in (stop)]))\n",
    "unclassified_df['material_group_description'] = unclassified_df['material_group_description'].apply(lambda x: ' '.join([word for word in x.split() if word not in (stop)]))\n",
    "\n",
    "\n",
    "#replace acyonym with full words\n",
    "replace_acronym = {\"svc\":\"service\", \"bldg\": \"building\", \"svce\":\"service\", \"mechsvc\":\"service\", \"elcsvc\": \"service\"}\n",
    "\n",
    "pattern = re.compile(\"|\".join(replace_acronym.keys()))\n",
    "\n",
    "desc = [pattern.sub(lambda m: replace_acronym[m.group(0)], doc) for doc in unclassified_df[\"material_group_description\"].str.lower()]\n",
    "desc2 = [pattern.sub(lambda m: replace_acronym[m.group(0)], doc) for doc in train_df[\"material_group_description\"].str.lower()]\n",
    "unclassified_df[\"material_group_description\"] = desc\n",
    "train_df[\"material_group_description\"] = desc2\n",
    "\n",
    "#delete fields with less than 5 values\n",
    "tmpdf = pd.DataFrame(Counter(train_df[\"cat_lvl_3_text\"]).most_common())\n",
    "exclude = tmpdf[tmpdf[1]<5][0]\n",
    "train_df = train_df[~(train_df['cat_lvl_3_text'].isin(exclude))]"
   ]
  },
  {
   "cell_type": "code",
   "execution_count": 8,
   "metadata": {},
   "outputs": [],
   "source": [
    "#save material_group_description into list\n",
    "description_list_train = train_df['material_group_description'].tolist()\n",
    "description_list_unclassified = unclassified_df['material_group_description'].tolist()\n",
    "\n",
    "#convert description list to count vectorizers\n",
    "#we do not need to use tfidf transformer bcause the descriptions are not long sentences\n",
    "\n",
    "#function removes stem\n",
    "def tokenize2(text):\n",
    "    tokens = nltk.word_tokenize(text)\n",
    "    stems = []\n",
    "    for item in tokens:\n",
    "\n",
    "        stems.append(PorterStemmer().stem(item))\n",
    "\n",
    "    stems = [wrd for wrd in stems if len(wrd) > 1]\n",
    "    return stems\n",
    "\n",
    "count_vect = CountVectorizer(tokenizer = tokenize2)\n",
    "\n",
    "\n",
    "#modeling data below\n",
    "x_train_counts = count_vect.fit_transform(description_list_train)\n",
    "\n",
    "#unclassfied below\n",
    "x_unclassified_counts = count_vect.transform(description_list_unclassified)"
   ]
  },
  {
   "cell_type": "code",
   "execution_count": 9,
   "metadata": {},
   "outputs": [
    {
     "name": "stdout",
     "output_type": "stream",
     "text": [
      "iteration: 1 of max_iter: 100\n",
      "iteration: 2 of max_iter: 100, perplexity: 50.1355\n",
      "iteration: 3 of max_iter: 100\n",
      "iteration: 4 of max_iter: 100, perplexity: 47.9285\n",
      "iteration: 5 of max_iter: 100\n",
      "iteration: 6 of max_iter: 100, perplexity: 47.7352\n",
      "iteration: 7 of max_iter: 100\n",
      "iteration: 8 of max_iter: 100, perplexity: 47.7227\n"
     ]
    }
   ],
   "source": [
    "lda = LDA(n_components=6, max_iter = 100, verbose = 1, evaluate_every = 2,random_state=42)\n",
    "modelLDA = lda.fit(x_train_counts)\n",
    "\n",
    "res = modelLDA.transform(x_train_counts)\n",
    "unclassifiedres = modelLDA.transform(x_unclassified_counts)"
   ]
  },
  {
   "cell_type": "code",
   "execution_count": 10,
   "metadata": {},
   "outputs": [
    {
     "data": {
      "text/plain": [
       "array([0.19207863, 0.12128967, 0.17673113, 0.17109687, 0.2093509 ,\n",
       "       0.12945279])"
      ]
     },
     "execution_count": 10,
     "metadata": {},
     "output_type": "execute_result"
    }
   ],
   "source": [
    "#weighted average of topic distribution for training\n",
    "wt_train = sum(res)/(sum(sum(res)))\n",
    "wt_train"
   ]
  },
  {
   "cell_type": "code",
   "execution_count": 11,
   "metadata": {},
   "outputs": [
    {
     "data": {
      "text/plain": [
       "array([0.07297945, 0.39287232, 0.08105431, 0.26511357, 0.10514932,\n",
       "       0.08283103])"
      ]
     },
     "execution_count": 11,
     "metadata": {},
     "output_type": "execute_result"
    }
   ],
   "source": [
    "#weighted average of topic distribution\n",
    "wt_unclassified = sum(unclassifiedres)/(sum(sum(unclassifiedres)))\n",
    "wt_unclassified"
   ]
  },
  {
   "cell_type": "code",
   "execution_count": 12,
   "metadata": {},
   "outputs": [
    {
     "name": "stderr",
     "output_type": "stream",
     "text": [
      "c:\\Users\\jxk8080\\Anaconda3\\lib\\site-packages\\seaborn\\categorical.py:381: DeprecationWarning: distutils Version classes are deprecated. Use packaging.version instead.\n",
      "  if LooseVersion(mpl.__version__) < \"3.0\":\n",
      "c:\\Users\\jxk8080\\Anaconda3\\lib\\site-packages\\setuptools\\_distutils\\version.py:351: DeprecationWarning: distutils Version classes are deprecated. Use packaging.version instead.\n",
      "  other = LooseVersion(other)\n"
     ]
    },
    {
     "data": {
      "text/plain": [
       "<AxesSubplot:xlabel='label', ylabel='weight'>"
      ]
     },
     "execution_count": 12,
     "metadata": {},
     "output_type": "execute_result"
    },
    {
     "data": {
      "image/png": "[encoded data removed]",
      "text/plain": [
       "<Figure size 360x360 with 1 Axes>"
      ]
     },
     "metadata": {
      "needs_background": "light"
     },
     "output_type": "display_data"
    }
   ],
   "source": [
    "train_lda_df = pd.DataFrame(wt_train)\n",
    "unclassified_lda_df = pd.DataFrame(wt_unclassified)\n",
    "\n",
    "train_lda_df.rename(columns={0:\"weight\"}, inplace = True)\n",
    "unclassified_lda_df.rename(columns={0:\"weight\"}, inplace = True)\n",
    "\n",
    "train_lda_df['type'] = \"train\"\n",
    "unclassified_lda_df['type'] = 'unclassified'\n",
    "train_lda_df['label'] = list(np.arange(1,6+1))\n",
    "unclassified_lda_df['label'] = list(np.arange(1,6+1))\n",
    "\n",
    "g1 = pd.concat([train_lda_df, unclassified_lda_df], axis = 0)\n",
    "\n",
    "fig, ax = plt.subplots(figsize = (5, 5))\n",
    "sns.barplot(x = 'label', y=\"weight\", data = g1, ax = ax, hue ='type')"
   ]
  },
  {
   "cell_type": "code",
   "execution_count": 13,
   "metadata": {},
   "outputs": [
    {
     "name": "stderr",
     "output_type": "stream",
     "text": [
      "c:\\Users\\jxk8080\\Anaconda3\\lib\\site-packages\\sklearn\\utils\\deprecation.py:87: FutureWarning: Function get_feature_names is deprecated; get_feature_names is deprecated in 1.0 and will be removed in 1.2. Please use get_feature_names_out instead.\n",
      "  warnings.warn(msg, category=FutureWarning)\n",
      "c:\\Users\\jxk8080\\Anaconda3\\lib\\site-packages\\pyLDAvis\\_prepare.py:246: FutureWarning: In a future version of pandas all arguments of DataFrame.drop except for the argument 'labels' will be keyword-only.\n",
      "  default_term_info = default_term_info.sort_values(\n"
     ]
    }
   ],
   "source": [
    "#save a graph of lda in directory\n",
    "train_lda_graph = pyLDAvis.sklearn.prepare(modelLDA, x_train_counts, count_vect)\n",
    "pyLDAvis.save_html(train_lda_graph, 'lda.html')"
   ]
  },
  {
   "cell_type": "code",
   "execution_count": 14,
   "metadata": {},
   "outputs": [
    {
     "name": "stdout",
     "output_type": "stream",
     "text": [
      "Counter({1: 13215, 3: 8090, 4: 2250, 5: 1226, 0: 1150, 2: 1105})\n"
     ]
    }
   ],
   "source": [
    "#we save our topic distribution in to the topic column of train and unclassified data\n",
    "train_df[\"topic\"] = np.argmax(res, axis = 1)\n",
    "unclassified_df[\"topic\"] = np.argmax(unclassifiedres, axis = 1)\n",
    "\n",
    "#we use below counter to balance the training data similarly to the unclassfied data\n",
    "sample = Counter(unclassified_df[\"topic\"])\n",
    "print(sample)"
   ]
  },
  {
   "cell_type": "code",
   "execution_count": 15,
   "metadata": {},
   "outputs": [],
   "source": [
    "#using make_imbalance we downsample the train data from above counter so it is more similar to the unclassified data.\n",
    "#the sampling strategy is from our unclassified data lda topic distribution\n",
    "X_res, y_res = make_imbalance(train_df[[\"material_group_description\",\"cat_lvl_3_text\"]], train_df['topic'],\n",
    "                              sampling_strategy=sample,\n",
    "                              random_state=42)"
   ]
  },
  {
   "cell_type": "code",
   "execution_count": 16,
   "metadata": {},
   "outputs": [],
   "source": [
    "#since we removed some words with resamspling, we fit a new count vectorizer\n",
    "x_train_topic = count_vect.fit_transform(X_res[\"material_group_description\"])\n",
    "x_unclassified_topic = count_vect.transform(description_list_unclassified)\n",
    "\n",
    "\n",
    "\n",
    "#train val split\n",
    "train_x, val_x, train_y, val_y = train_test_split(x_train_topic, X_res[\"cat_lvl_3_text\"], test_size=0.3)\n",
    "\n",
    "\n",
    "\n",
    "#converting target classes to numbers\n",
    "le = LabelEncoder()\n",
    "le.fit(X_res['cat_lvl_3_text'])\n",
    "train_y = le.transform(train_y)\n",
    "val_y = le.transform(val_y)"
   ]
  },
  {
   "cell_type": "code",
   "execution_count": 17,
   "metadata": {},
   "outputs": [],
   "source": [
    "#multinomial Naive Bayes\n",
    "mnb = MultinomialNB().fit(train_x, train_y)\n",
    "pred_y_mnb = mnb.predict(val_x)"
   ]
  },
  {
   "cell_type": "code",
   "execution_count": 18,
   "metadata": {},
   "outputs": [
    {
     "name": "stdout",
     "output_type": "stream",
     "text": [
      "              precision    recall  f1-score   support\n",
      "\n",
      "           0       0.96      0.95      0.96       106\n",
      "           1       0.00      0.00      0.00         1\n",
      "           2       0.46      1.00      0.63        12\n",
      "           3       1.00      0.60      0.75         5\n",
      "           4       0.92      1.00      0.96       504\n",
      "           5       0.97      0.99      0.98      1500\n",
      "           6       0.93      0.74      0.82       269\n",
      "           7       0.00      0.00      0.00         3\n",
      "           9       0.89      0.97      0.93        40\n",
      "          10       0.00      0.00      0.00         4\n",
      "          11       1.00      0.20      0.33        15\n",
      "          12       0.87      1.00      0.93        67\n",
      "          13       0.99      1.00      0.99        93\n",
      "          14       0.97      0.84      0.90        43\n",
      "          15       0.99      0.99      0.99      5254\n",
      "          17       1.00      1.00      1.00         8\n",
      "          18       0.93      0.93      0.93       150\n",
      "          19       1.00      1.00      1.00         7\n",
      "          21       1.00      1.00      1.00        13\n",
      "          22       1.00      0.56      0.72        16\n",
      "          24       0.00      0.00      0.00         1\n",
      "\n",
      "    accuracy                           0.98      8111\n",
      "   macro avg       0.76      0.70      0.71      8111\n",
      "weighted avg       0.98      0.98      0.98      8111\n",
      "\n"
     ]
    }
   ],
   "source": [
    "#metrics\n",
    "print(classification_report(val_y, pred_y_mnb, zero_division=0))"
   ]
  },
  {
   "cell_type": "code",
   "execution_count": 19,
   "metadata": {},
   "outputs": [],
   "source": [
    "#random forest\n",
    "clf = RandomForestClassifier( random_state=42)\n",
    "depth = [50,51,52,53,54,55,56,57,58,59,60,61,62,63,64,65]\n",
    "\n",
    "param_grid = {\n",
    "    \"n_estimators\": [1000],\n",
    "    'max_depth': depth, \n",
    "    }\n",
    "param_grid = list(ParameterGrid(param_grid))\n",
    "\n",
    "train_scores = []\n",
    "val_scores = []\n",
    "for param in param_grid:\n",
    "    clf.set_params(**param)\n",
    "    clf.fit(X=train_x, y=train_y)\n",
    "    pred_y_rf = clf.predict(val_x)\n",
    "    val_scores.append(f1_score(val_y, pred_y_rf, average ='macro'))\n",
    "\n",
    "    train_scores.append(f1_score(train_y,clf.predict(train_x),average='macro'))"
   ]
  },
  {
   "cell_type": "code",
   "execution_count": 20,
   "metadata": {},
   "outputs": [
    {
     "data": {
      "text/plain": [
       "<AxesSubplot:xlabel='depth', ylabel='f1'>"
      ]
     },
     "execution_count": 20,
     "metadata": {},
     "output_type": "execute_result"
    },
    {
     "data": {
      "image/png": "[encoded data removed]",
      "text/plain": [
       "<Figure size 720x720 with 1 Axes>"
      ]
     },
     "metadata": {
      "needs_background": "light"
     },
     "output_type": "display_data"
    }
   ],
   "source": [
    "#appending list to df to graph it in seaborn\n",
    "temp1 = pd.DataFrame(val_scores)\n",
    "temp1['type'] = 'val'\n",
    "temp1['depth'] = depth\n",
    "temp2 = pd.DataFrame(train_scores)\n",
    "temp2['type'] = 'train'\n",
    "temp2['depth'] = depth\n",
    "\n",
    "acc = pd.concat([temp1, temp2], ignore_index=True )\n",
    "acc.rename(columns = {0: \"f1\"}, inplace = True)\n",
    "\n",
    "fig, ax = plt.subplots(figsize = (10, 10))\n",
    "sns.lineplot(y = \"f1\", x = 'depth',data = acc, ax = ax, hue = \"type\", marker = 'o')"
   ]
  },
  {
   "cell_type": "code",
   "execution_count": 34,
   "metadata": {},
   "outputs": [
    {
     "name": "stderr",
     "output_type": "stream",
     "text": [
      "c:\\Users\\jxk8080\\Anaconda3\\lib\\site-packages\\xgboost\\sklearn.py:793: UserWarning: `early_stopping_rounds` in `fit` method is deprecated for better compatibility with scikit-learn, use `early_stopping_rounds` in constructor or`set_params` instead.\n",
      "  warnings.warn(\n",
      "c:\\Users\\jxk8080\\Anaconda3\\lib\\site-packages\\xgboost\\sklearn.py:793: UserWarning: `early_stopping_rounds` in `fit` method is deprecated for better compatibility with scikit-learn, use `early_stopping_rounds` in constructor or`set_params` instead.\n",
      "  warnings.warn(\n",
      "c:\\Users\\jxk8080\\Anaconda3\\lib\\site-packages\\xgboost\\sklearn.py:793: UserWarning: `early_stopping_rounds` in `fit` method is deprecated for better compatibility with scikit-learn, use `early_stopping_rounds` in constructor or`set_params` instead.\n",
      "  warnings.warn(\n"
     ]
    }
   ],
   "source": [
    "xgb_model = xgb.XGBClassifier(objective=\"multi:softmax\", random_state=42, early_stopping = True)\n",
    "\n",
    "param_grid = {\n",
    "    \"n_estimators\": [10000],\n",
    "    'max_depth': [2,3,5,10], \n",
    "    'eta': [0.3]\n",
    "    }\n",
    "param_grid = list(ParameterGrid(param_grid))\n",
    "\n",
    "scores_xg = []\n",
    "for param in param_grid:\n",
    "    \n",
    "    xgb_model.set_params(**param)\n",
    "\n",
    "    xgb_model.fit(X=train_x, y=train_y,\n",
    "    eval_set = [(train_x, train_y),(val_x, val_y)],\n",
    "    early_stopping_rounds = 100,\n",
    "    verbose = 0\n",
    "    )\n",
    "    pred_y_xg = xgb_model.predict(val_x)\n",
    "    scores_xg.append(f1_score(val_y, pred_y_xg, average ='macro'))"
   ]
  },
  {
   "cell_type": "code",
   "execution_count": 22,
   "metadata": {},
   "outputs": [
    {
     "data": {
      "text/plain": [
       "[0.7730002977685055, 0.7971102409737464, 0.797413006960354, 0.7935745863813901]"
      ]
     },
     "execution_count": 22,
     "metadata": {},
     "output_type": "execute_result"
    }
   ],
   "source": [
    "scores_xg"
   ]
  },
  {
   "cell_type": "code",
   "execution_count": 23,
   "metadata": {},
   "outputs": [],
   "source": [
    "## if wanting to apply model on unclassified\n",
    "le.inverse_transform(pred_y_xg)\n",
    "final_output = xgb_model.predict(x_unclassified_topic)\n",
    "unclassified_df[\"predicted\"] = le.inverse_transform(final_output)"
   ]
  },
  {
   "cell_type": "code",
   "execution_count": 24,
   "metadata": {},
   "outputs": [
    {
     "data": {
      "text/html": [
       "<div>\n",
       "<style scoped>\n",
       "    .dataframe tbody tr th:only-of-type {\n",
       "        vertical-align: middle;\n",
       "    }\n",
       "\n",
       "    .dataframe tbody tr th {\n",
       "        vertical-align: top;\n",
       "    }\n",
       "\n",
       "    .dataframe thead th {\n",
       "        text-align: right;\n",
       "    }\n",
       "</style>\n",
       "<table border=\"1\" class=\"dataframe\">\n",
       "  <thead>\n",
       "    <tr style=\"text-align: right;\">\n",
       "      <th></th>\n",
       "      <th>material_group_description</th>\n",
       "      <th>material_description</th>\n",
       "      <th>cat_lvl_3_text</th>\n",
       "      <th>topic</th>\n",
       "      <th>predicted</th>\n",
       "    </tr>\n",
       "  </thead>\n",
       "  <tbody>\n",
       "    <tr>\n",
       "      <th>88</th>\n",
       "      <td>lab/technical equip</td>\n",
       "      <td>Aluminum Sample Testing</td>\n",
       "      <td>UNCLASSIFIED</td>\n",
       "      <td>4</td>\n",
       "      <td>MRO</td>\n",
       "    </tr>\n",
       "    <tr>\n",
       "      <th>89</th>\n",
       "      <td>lab/technical equip</td>\n",
       "      <td>Aluminum Sample Testing 020 Trial</td>\n",
       "      <td>UNCLASSIFIED</td>\n",
       "      <td>4</td>\n",
       "      <td>MRO</td>\n",
       "    </tr>\n",
       "    <tr>\n",
       "      <th>103</th>\n",
       "      <td>office supplies</td>\n",
       "      <td>10(L) x 10(W) x 10(H) Shipping Boxes, B</td>\n",
       "      <td>UNCLASSIFIED</td>\n",
       "      <td>1</td>\n",
       "      <td>MRO</td>\n",
       "    </tr>\n",
       "    <tr>\n",
       "      <th>104</th>\n",
       "      <td>office supplies</td>\n",
       "      <td>12 1/4 x 9 1/4 x 12'' Multi Depth Shi</td>\n",
       "      <td>UNCLASSIFIED</td>\n",
       "      <td>1</td>\n",
       "      <td>MRO</td>\n",
       "    </tr>\n",
       "    <tr>\n",
       "      <th>105</th>\n",
       "      <td>office supplies</td>\n",
       "      <td>12(L) x 12(W) x 12(H) Deluxe Moving Box</td>\n",
       "      <td>UNCLASSIFIED</td>\n",
       "      <td>1</td>\n",
       "      <td>MRO</td>\n",
       "    </tr>\n",
       "    <tr>\n",
       "      <th>...</th>\n",
       "      <td>...</td>\n",
       "      <td>...</td>\n",
       "      <td>...</td>\n",
       "      <td>...</td>\n",
       "      <td>...</td>\n",
       "    </tr>\n",
       "    <tr>\n",
       "      <th>257005</th>\n",
       "      <td>xdel: mach &amp; eq, oth</td>\n",
       "      <td>for temp streachwrap loaner freight</td>\n",
       "      <td>UNCLASSIFIED</td>\n",
       "      <td>2</td>\n",
       "      <td>EQUIPMENT</td>\n",
       "    </tr>\n",
       "    <tr>\n",
       "      <th>257007</th>\n",
       "      <td>xdel: prod supp, oth</td>\n",
       "      <td>WATER TREATMENT 2020</td>\n",
       "      <td>UNCLASSIFIED</td>\n",
       "      <td>3</td>\n",
       "      <td>MRO</td>\n",
       "    </tr>\n",
       "    <tr>\n",
       "      <th>257008</th>\n",
       "      <td>xdel: r&amp;d material</td>\n",
       "      <td>Nordson Display</td>\n",
       "      <td>UNCLASSIFIED</td>\n",
       "      <td>5</td>\n",
       "      <td>MRO</td>\n",
       "    </tr>\n",
       "    <tr>\n",
       "      <th>257009</th>\n",
       "      <td>xdel: repair service r&amp;d</td>\n",
       "      <td>LIFT EQUIPMENT</td>\n",
       "      <td>UNCLASSIFIED</td>\n",
       "      <td>3</td>\n",
       "      <td>FACILITIES</td>\n",
       "    </tr>\n",
       "    <tr>\n",
       "      <th>257047</th>\n",
       "      <td>ops resale</td>\n",
       "      <td>DOME - MUFFIN PAN</td>\n",
       "      <td>UNCLASSIFIED</td>\n",
       "      <td>3</td>\n",
       "      <td>FINISHED GOODS</td>\n",
       "    </tr>\n",
       "  </tbody>\n",
       "</table>\n",
       "<p>27036 rows × 5 columns</p>\n",
       "</div>"
      ],
      "text/plain": [
       "       material_group_description                     material_description  \\\n",
       "88            lab/technical equip                  Aluminum Sample Testing   \n",
       "89            lab/technical equip        Aluminum Sample Testing 020 Trial   \n",
       "103               office supplies  10(L) x 10(W) x 10(H) Shipping Boxes, B   \n",
       "104               office supplies    12 1/4 x 9 1/4 x 12'' Multi Depth Shi   \n",
       "105               office supplies  12(L) x 12(W) x 12(H) Deluxe Moving Box   \n",
       "...                           ...                                      ...   \n",
       "257005       xdel: mach & eq, oth      for temp streachwrap loaner freight   \n",
       "257007       xdel: prod supp, oth                     WATER TREATMENT 2020   \n",
       "257008         xdel: r&d material                          Nordson Display   \n",
       "257009   xdel: repair service r&d                           LIFT EQUIPMENT   \n",
       "257047                 ops resale                        DOME - MUFFIN PAN   \n",
       "\n",
       "       cat_lvl_3_text  topic       predicted  \n",
       "88       UNCLASSIFIED      4             MRO  \n",
       "89       UNCLASSIFIED      4             MRO  \n",
       "103      UNCLASSIFIED      1             MRO  \n",
       "104      UNCLASSIFIED      1             MRO  \n",
       "105      UNCLASSIFIED      1             MRO  \n",
       "...               ...    ...             ...  \n",
       "257005   UNCLASSIFIED      2       EQUIPMENT  \n",
       "257007   UNCLASSIFIED      3             MRO  \n",
       "257008   UNCLASSIFIED      5             MRO  \n",
       "257009   UNCLASSIFIED      3      FACILITIES  \n",
       "257047   UNCLASSIFIED      3  FINISHED GOODS  \n",
       "\n",
       "[27036 rows x 5 columns]"
      ]
     },
     "execution_count": 24,
     "metadata": {},
     "output_type": "execute_result"
    }
   ],
   "source": [
    "unclassified_df"
   ]
  },
  {
   "cell_type": "code",
   "execution_count": 25,
   "metadata": {},
   "outputs": [],
   "source": [
    "# output the df to excel file in out_files\n",
    "unclassified_df.to_excel(f'./out_files/categorized_lvl_3.xlsx', \n",
    "                 index=False)"
   ]
  }
 ],
 "metadata": {
  "kernelspec": {
   "display_name": "Python 3.9.12 ('base')",
   "language": "python",
   "name": "python3"
  },
  "language_info": {
   "codemirror_mode": {
    "name": "ipython",
    "version": 3
   },
   "file_extension": ".py",
   "mimetype": "text/x-python",
   "name": "python",
   "nbconvert_exporter": "python",
   "pygments_lexer": "ipython3",
   "version": "3.9.12"
  },
  "orig_nbformat": 4,
  "vscode": {
   "interpreter": {
    "hash": "084fa601d54b8861bd537c04573ca81870658dd75b09f4e48af02e275cb7c846"
   }
  }
 },
 "nbformat": 4,
 "nbformat_minor": 2
}
